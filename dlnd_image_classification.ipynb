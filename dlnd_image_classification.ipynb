{
 "cells": [
  {
   "cell_type": "markdown",
   "metadata": {
    "collapsed": true
   },
   "source": [
    "# Image Classification\n",
    "In this project, you'll classify images from the [CIFAR-10 dataset](https://www.cs.toronto.edu/~kriz/cifar.html).  The dataset consists of airplanes, dogs, cats, and other objects. You'll preprocess the images, then train a convolutional neural network on all the samples. The images need to be normalized and the labels need to be one-hot encoded.  You'll get to apply what you learned and build a convolutional, max pooling, dropout, and fully connected layers.  At the end, you'll get to see your neural network's predictions on the sample images.\n",
    "## Get the Data\n",
    "Run the following cell to download the [CIFAR-10 dataset for python](https://www.cs.toronto.edu/~kriz/cifar-10-python.tar.gz)."
   ]
  },
  {
   "cell_type": "code",
   "execution_count": 103,
   "metadata": {
    "collapsed": false
   },
   "outputs": [
    {
     "name": "stdout",
     "output_type": "stream",
     "text": [
      "All files found!\n"
     ]
    }
   ],
   "source": [
    "\"\"\"\n",
    "DON'T MODIFY ANYTHING IN THIS CELL THAT IS BELOW THIS LINE\n",
    "\"\"\"\n",
    "from urllib.request import urlretrieve\n",
    "from os.path import isfile, isdir\n",
    "from tqdm import tqdm\n",
    "import problem_unittests as tests\n",
    "import tarfile\n",
    "\n",
    "cifar10_dataset_folder_path = 'cifar-10-batches-py'\n",
    "\n",
    "class DLProgress(tqdm):\n",
    "    last_block = 0\n",
    "\n",
    "    def hook(self, block_num=1, block_size=1, total_size=None):\n",
    "        self.total = total_size\n",
    "        self.update((block_num - self.last_block) * block_size)\n",
    "        self.last_block = block_num\n",
    "\n",
    "if not isfile('cifar-10-python.tar.gz'):\n",
    "    with DLProgress(unit='B', unit_scale=True, miniters=1, desc='CIFAR-10 Dataset') as pbar:\n",
    "        urlretrieve(\n",
    "            'https://www.cs.toronto.edu/~kriz/cifar-10-python.tar.gz',\n",
    "            'cifar-10-python.tar.gz',\n",
    "            pbar.hook)\n",
    "\n",
    "if not isdir(cifar10_dataset_folder_path):\n",
    "    with tarfile.open('cifar-10-python.tar.gz') as tar:\n",
    "        tar.extractall()\n",
    "        tar.close()\n",
    "\n",
    "\n",
    "tests.test_folder_path(cifar10_dataset_folder_path)"
   ]
  },
  {
   "cell_type": "markdown",
   "metadata": {},
   "source": [
    "## Explore the Data\n",
    "The dataset is broken into batches to prevent your machine from running out of memory.  The CIFAR-10 dataset consists of 5 batches, named `data_batch_1`, `data_batch_2`, etc.. Each batch contains the labels and images that are one of the following:\n",
    "* airplane\n",
    "* automobile\n",
    "* bird\n",
    "* cat\n",
    "* deer\n",
    "* dog\n",
    "* frog\n",
    "* horse\n",
    "* ship\n",
    "* truck\n",
    "\n",
    "Understanding a dataset is part of making predictions on the data.  Play around with the code cell below by changing the `batch_id` and `sample_id`. The `batch_id` is the id for a batch (1-5). The `sample_id` is the id for a image and label pair in the batch.\n",
    "\n",
    "Ask yourself \"What are all possible labels?\", \"What is the range of values for the image data?\", \"Are the labels in order or random?\".  Answers to questions like these will help you preprocess the data and end up with better predictions."
   ]
  },
  {
   "cell_type": "markdown",
   "metadata": {},
   "source": [
    "## What are all possible labels?\n",
    "airplane\n",
    "automobile\n",
    "bird\n",
    "cat\n",
    "deer\n",
    "dog\n",
    "frog\n",
    "horse\n",
    "ship\n",
    "truck = 10"
   ]
  },
  {
   "cell_type": "markdown",
   "metadata": {},
   "source": [
    "## What is the range of values for the image data?\n",
    "0-255"
   ]
  },
  {
   "cell_type": "markdown",
   "metadata": {},
   "source": [
    "## Are the labels in order or random?\n",
    "The labels are ordered randomly"
   ]
  },
  {
   "cell_type": "code",
   "execution_count": 104,
   "metadata": {
    "collapsed": false
   },
   "outputs": [
    {
     "name": "stdout",
     "output_type": "stream",
     "text": [
      "\n",
      "Stats of batch 1:\n",
      "Samples: 10000\n",
      "Label Counts: {0: 1005, 1: 974, 2: 1032, 3: 1016, 4: 999, 5: 937, 6: 1030, 7: 1001, 8: 1025, 9: 981}\n",
      "First 20 Labels: [6, 9, 9, 4, 1, 1, 2, 7, 8, 3, 4, 7, 7, 2, 9, 9, 9, 3, 2, 6]\n",
      "\n",
      "Example of Image 4:\n",
      "Image - Min Value: 0 Max Value: 254\n",
      "Image - Shape: (32, 32, 3)\n",
      "Label - Label Id: 1 Name: automobile\n"
     ]
    },
    {
     "data": {
      "image/png": "[encoded data removed]",
      "text/plain": [
       "<matplotlib.figure.Figure at 0x1a1002434a8>"
      ]
     },
     "metadata": {
      "image/png": {
       "height": 250,
       "width": 253
      }
     },
     "output_type": "display_data"
    }
   ],
   "source": [
    "%matplotlib inline\n",
    "%config InlineBackend.figure_format = 'retina'\n",
    "\n",
    "import helper\n",
    "import numpy as np\n",
    "\n",
    "# Explore the dataset\n",
    "batch_id = 1\n",
    "sample_id = 4\n",
    "helper.display_stats(cifar10_dataset_folder_path, batch_id, sample_id)"
   ]
  },
  {
   "cell_type": "markdown",
   "metadata": {},
   "source": [
    "## Implement Preprocess Functions\n",
    "### Normalize\n",
    "In the cell below, implement the `normalize` function to take in image data, `x`, and return it as a normalized Numpy array. The values should be in the range of 0 to 1, inclusive.  The return object should be the same shape as `x`."
   ]
  },
  {
   "cell_type": "code",
   "execution_count": 105,
   "metadata": {
    "collapsed": false
   },
   "outputs": [
    {
     "name": "stdout",
     "output_type": "stream",
     "text": [
      "Tests Passed\n"
     ]
    }
   ],
   "source": [
    "def normalize(x):\n",
    "    \"\"\"\n",
    "    Normalize a list of sample image data in the range of 0 to 1\n",
    "    : x: List of image data.  The image shape is (32, 32, 3)\n",
    "    : return: Numpy array of normalize data\n",
    "    \"\"\"\n",
    "    # TODO: Implement Function  \n",
    "    norm_x = np.zeros((len(x),32,32,3))\n",
    "    \n",
    "    new_min = 0.0\n",
    "    new_max = 1.0\n",
    "    old_min = 0.0\n",
    "    old_max = 255.0\n",
    "        \n",
    "    for idx in range(len(x)):\n",
    "        for ch in range(3):\n",
    "            for y_dir in range(32):\n",
    "                for x_dir in range(32):\n",
    "                    temp_val = x[idx,y_dir,x_dir,ch]\n",
    "                    norm_x[idx,y_dir,x_dir,ch]=(temp_val-old_min)*(new_max-new_min)/(old_max-old_min)+new_min\n",
    "    \n",
    "    return norm_x\n",
    "\n",
    "\n",
    "\n",
    "\"\"\"\n",
    "DON'T MODIFY ANYTHING IN THIS CELL THAT IS BELOW THIS LINE\n",
    "\"\"\"\n",
    "tests.test_normalize(normalize)"
   ]
  },
  {
   "cell_type": "markdown",
   "metadata": {},
   "source": [
    "### One-hot encode\n",
    "Just like the previous code cell, you'll be implementing a function for preprocessing.  This time, you'll implement the `one_hot_encode` function. The input, `x`, are a list of labels.  Implement the function to return the list of labels as One-Hot encoded Numpy array.  The possible values for labels are 0 to 9. The one-hot encoding function should return the same encoding for each value between each call to `one_hot_encode`.  Make sure to save the map of encodings outside the function.\n",
    "\n",
    "Hint: Don't reinvent the wheel."
   ]
  },
  {
   "cell_type": "code",
   "execution_count": 106,
   "metadata": {
    "collapsed": false,
    "scrolled": true
   },
   "outputs": [
    {
     "name": "stdout",
     "output_type": "stream",
     "text": [
      "first 3 elements\n",
      "\n",
      "[2 7 2]\n",
      "\n",
      "one_hot_encode_mask\n",
      "\n",
      "[[1 0 0 0 0 0 0 0 0 0]\n",
      " [0 1 0 0 0 0 0 0 0 0]\n",
      " [0 0 1 0 0 0 0 0 0 0]\n",
      " [0 0 0 1 0 0 0 0 0 0]\n",
      " [0 0 0 0 1 0 0 0 0 0]\n",
      " [0 0 0 0 0 1 0 0 0 0]\n",
      " [0 0 0 0 0 0 1 0 0 0]\n",
      " [0 0 0 0 0 0 0 1 0 0]\n",
      " [0 0 0 0 0 0 0 0 1 0]\n",
      " [0 0 0 0 0 0 0 0 0 1]]\n",
      "\n",
      "first 3 one_hot_encoded x values\n",
      "\n",
      "[[0 0 1 0 0 0 0 0 0 0]\n",
      " [0 0 0 0 0 0 0 1 0 0]\n",
      " [0 0 1 0 0 0 0 0 0 0]]\n",
      "first 3 elements\n",
      "\n",
      "[4, 5, 3]\n",
      "\n",
      "one_hot_encode_mask\n",
      "\n",
      "[[1 0 0 0 0 0 0 0 0 0]\n",
      " [0 1 0 0 0 0 0 0 0 0]\n",
      " [0 0 1 0 0 0 0 0 0 0]\n",
      " [0 0 0 1 0 0 0 0 0 0]\n",
      " [0 0 0 0 1 0 0 0 0 0]\n",
      " [0 0 0 0 0 1 0 0 0 0]\n",
      " [0 0 0 0 0 0 1 0 0 0]\n",
      " [0 0 0 0 0 0 0 1 0 0]\n",
      " [0 0 0 0 0 0 0 0 1 0]\n",
      " [0 0 0 0 0 0 0 0 0 1]]\n",
      "\n",
      "first 3 one_hot_encoded x values\n",
      "\n",
      "[[0 0 0 0 1 0 0 0 0 0]\n",
      " [0 0 0 0 0 1 0 0 0 0]\n",
      " [0 0 0 1 0 0 0 0 0 0]]\n",
      "Tests Passed\n"
     ]
    }
   ],
   "source": [
    "def one_hot_encode(x):\n",
    "    \"\"\"\n",
    "    One hot encode a list of sample labels. Return a one-hot encoded vector for each label.\n",
    "    : x: List of sample Labels\n",
    "    : return: Numpy array of one-hot encoded labels\n",
    "    \"\"\"\n",
    "    # TODO: Implement Function\n",
    "    print(\"first 3 elements\\n\")\n",
    "    print(x[:3])\n",
    "    \n",
    "    one_hot_encode_mask = np.eye(10,dtype=int)\n",
    "    print(\"\\none_hot_encode_mask\\n\")\n",
    "    print(one_hot_encode_mask)\n",
    "    \n",
    "    one_hot_encoded_x = np.zeros((len(x),10),dtype=int)\n",
    "    for idx in range(len(x)):\n",
    "        one_hot_encoded_x[idx] = one_hot_encode_mask[x[idx]]\n",
    "    \n",
    "    print(\"\\nfirst 3 one_hot_encoded x values\\n\")\n",
    "    print(one_hot_encoded_x[:3])\n",
    "    \n",
    "    return one_hot_encoded_x\n",
    "\n",
    "\n",
    "\"\"\"\n",
    "DON'T MODIFY ANYTHING IN THIS CELL THAT IS BELOW THIS LINE\n",
    "\"\"\"\n",
    "tests.test_one_hot_encode(one_hot_encode)"
   ]
  },
  {
   "cell_type": "markdown",
   "metadata": {},
   "source": [
    "### Randomize Data\n",
    "As you saw from exploring the data above, the order of the samples are randomized.  It doesn't hurt to randomize it again, but you don't need to for this dataset."
   ]
  },
  {
   "cell_type": "markdown",
   "metadata": {},
   "source": [
    "## Preprocess all the data and save it\n",
    "Running the code cell below will preprocess all the CIFAR-10 data and save it to file. The code below also uses 10% of the training data for validation."
   ]
  },
  {
   "cell_type": "code",
   "execution_count": 107,
   "metadata": {
    "collapsed": false
   },
   "outputs": [
    {
     "name": "stdout",
     "output_type": "stream",
     "text": [
      "first 3 elements\n",
      "\n",
      "[6, 9, 9]\n",
      "\n",
      "one_hot_encode_mask\n",
      "\n",
      "[[1 0 0 0 0 0 0 0 0 0]\n",
      " [0 1 0 0 0 0 0 0 0 0]\n",
      " [0 0 1 0 0 0 0 0 0 0]\n",
      " [0 0 0 1 0 0 0 0 0 0]\n",
      " [0 0 0 0 1 0 0 0 0 0]\n",
      " [0 0 0 0 0 1 0 0 0 0]\n",
      " [0 0 0 0 0 0 1 0 0 0]\n",
      " [0 0 0 0 0 0 0 1 0 0]\n",
      " [0 0 0 0 0 0 0 0 1 0]\n",
      " [0 0 0 0 0 0 0 0 0 1]]\n",
      "\n",
      "first 3 one_hot_encoded x values\n",
      "\n",
      "[[0 0 0 0 0 0 1 0 0 0]\n",
      " [0 0 0 0 0 0 0 0 0 1]\n",
      " [0 0 0 0 0 0 0 0 0 1]]\n",
      "first 3 elements\n",
      "\n",
      "[1, 6, 6]\n",
      "\n",
      "one_hot_encode_mask\n",
      "\n",
      "[[1 0 0 0 0 0 0 0 0 0]\n",
      " [0 1 0 0 0 0 0 0 0 0]\n",
      " [0 0 1 0 0 0 0 0 0 0]\n",
      " [0 0 0 1 0 0 0 0 0 0]\n",
      " [0 0 0 0 1 0 0 0 0 0]\n",
      " [0 0 0 0 0 1 0 0 0 0]\n",
      " [0 0 0 0 0 0 1 0 0 0]\n",
      " [0 0 0 0 0 0 0 1 0 0]\n",
      " [0 0 0 0 0 0 0 0 1 0]\n",
      " [0 0 0 0 0 0 0 0 0 1]]\n",
      "\n",
      "first 3 one_hot_encoded x values\n",
      "\n",
      "[[0 1 0 0 0 0 0 0 0 0]\n",
      " [0 0 0 0 0 0 1 0 0 0]\n",
      " [0 0 0 0 0 0 1 0 0 0]]\n",
      "first 3 elements\n",
      "\n",
      "[8, 5, 0]\n",
      "\n",
      "one_hot_encode_mask\n",
      "\n",
      "[[1 0 0 0 0 0 0 0 0 0]\n",
      " [0 1 0 0 0 0 0 0 0 0]\n",
      " [0 0 1 0 0 0 0 0 0 0]\n",
      " [0 0 0 1 0 0 0 0 0 0]\n",
      " [0 0 0 0 1 0 0 0 0 0]\n",
      " [0 0 0 0 0 1 0 0 0 0]\n",
      " [0 0 0 0 0 0 1 0 0 0]\n",
      " [0 0 0 0 0 0 0 1 0 0]\n",
      " [0 0 0 0 0 0 0 0 1 0]\n",
      " [0 0 0 0 0 0 0 0 0 1]]\n",
      "\n",
      "first 3 one_hot_encoded x values\n",
      "\n",
      "[[0 0 0 0 0 0 0 0 1 0]\n",
      " [0 0 0 0 0 1 0 0 0 0]\n",
      " [1 0 0 0 0 0 0 0 0 0]]\n",
      "first 3 elements\n",
      "\n",
      "[0, 6, 0]\n",
      "\n",
      "one_hot_encode_mask\n",
      "\n",
      "[[1 0 0 0 0 0 0 0 0 0]\n",
      " [0 1 0 0 0 0 0 0 0 0]\n",
      " [0 0 1 0 0 0 0 0 0 0]\n",
      " [0 0 0 1 0 0 0 0 0 0]\n",
      " [0 0 0 0 1 0 0 0 0 0]\n",
      " [0 0 0 0 0 1 0 0 0 0]\n",
      " [0 0 0 0 0 0 1 0 0 0]\n",
      " [0 0 0 0 0 0 0 1 0 0]\n",
      " [0 0 0 0 0 0 0 0 1 0]\n",
      " [0 0 0 0 0 0 0 0 0 1]]\n",
      "\n",
      "first 3 one_hot_encoded x values\n",
      "\n",
      "[[1 0 0 0 0 0 0 0 0 0]\n",
      " [0 0 0 0 0 0 1 0 0 0]\n",
      " [1 0 0 0 0 0 0 0 0 0]]\n",
      "first 3 elements\n",
      "\n",
      "[1, 8, 5]\n",
      "\n",
      "one_hot_encode_mask\n",
      "\n",
      "[[1 0 0 0 0 0 0 0 0 0]\n",
      " [0 1 0 0 0 0 0 0 0 0]\n",
      " [0 0 1 0 0 0 0 0 0 0]\n",
      " [0 0 0 1 0 0 0 0 0 0]\n",
      " [0 0 0 0 1 0 0 0 0 0]\n",
      " [0 0 0 0 0 1 0 0 0 0]\n",
      " [0 0 0 0 0 0 1 0 0 0]\n",
      " [0 0 0 0 0 0 0 1 0 0]\n",
      " [0 0 0 0 0 0 0 0 1 0]\n",
      " [0 0 0 0 0 0 0 0 0 1]]\n",
      "\n",
      "first 3 one_hot_encoded x values\n",
      "\n",
      "[[0 1 0 0 0 0 0 0 0 0]\n",
      " [0 0 0 0 0 0 0 0 1 0]\n",
      " [0 0 0 0 0 1 0 0 0 0]]\n",
      "first 3 elements\n",
      "\n",
      "[4 2 2]\n",
      "\n",
      "one_hot_encode_mask\n",
      "\n",
      "[[1 0 0 0 0 0 0 0 0 0]\n",
      " [0 1 0 0 0 0 0 0 0 0]\n",
      " [0 0 1 0 0 0 0 0 0 0]\n",
      " [0 0 0 1 0 0 0 0 0 0]\n",
      " [0 0 0 0 1 0 0 0 0 0]\n",
      " [0 0 0 0 0 1 0 0 0 0]\n",
      " [0 0 0 0 0 0 1 0 0 0]\n",
      " [0 0 0 0 0 0 0 1 0 0]\n",
      " [0 0 0 0 0 0 0 0 1 0]\n",
      " [0 0 0 0 0 0 0 0 0 1]]\n",
      "\n",
      "first 3 one_hot_encoded x values\n",
      "\n",
      "[[0 0 0 0 1 0 0 0 0 0]\n",
      " [0 0 1 0 0 0 0 0 0 0]\n",
      " [0 0 1 0 0 0 0 0 0 0]]\n",
      "first 3 elements\n",
      "\n",
      "[3 8 8]\n",
      "\n",
      "one_hot_encode_mask\n",
      "\n",
      "[[1 0 0 0 0 0 0 0 0 0]\n",
      " [0 1 0 0 0 0 0 0 0 0]\n",
      " [0 0 1 0 0 0 0 0 0 0]\n",
      " [0 0 0 1 0 0 0 0 0 0]\n",
      " [0 0 0 0 1 0 0 0 0 0]\n",
      " [0 0 0 0 0 1 0 0 0 0]\n",
      " [0 0 0 0 0 0 1 0 0 0]\n",
      " [0 0 0 0 0 0 0 1 0 0]\n",
      " [0 0 0 0 0 0 0 0 1 0]\n",
      " [0 0 0 0 0 0 0 0 0 1]]\n",
      "\n",
      "first 3 one_hot_encoded x values\n",
      "\n",
      "[[0 0 0 1 0 0 0 0 0 0]\n",
      " [0 0 0 0 0 0 0 0 1 0]\n",
      " [0 0 0 0 0 0 0 0 1 0]]\n"
     ]
    }
   ],
   "source": [
    "\"\"\"\n",
    "DON'T MODIFY ANYTHING IN THIS CELL\n",
    "\"\"\"\n",
    "# Preprocess Training, Validation, and Testing Data\n",
    "helper.preprocess_and_save_data(cifar10_dataset_folder_path, normalize, one_hot_encode)"
   ]
  },
  {
   "cell_type": "markdown",
   "metadata": {},
   "source": [
    "# Check Point\n",
    "This is your first checkpoint.  If you ever decide to come back to this notebook or have to restart the notebook, you can start from here.  The preprocessed data has been saved to disk."
   ]
  },
  {
   "cell_type": "code",
   "execution_count": 2,
   "metadata": {
    "collapsed": false,
    "scrolled": true
   },
   "outputs": [],
   "source": [
    "\"\"\"\n",
    "DON'T MODIFY ANYTHING IN THIS CELL\n",
    "\"\"\"\n",
    "import pickle\n",
    "import problem_unittests as tests\n",
    "import helper\n",
    "\n",
    "# Load the Preprocessed Validation data\n",
    "valid_features, valid_labels = pickle.load(open('preprocess_validation.p', mode='rb'))"
   ]
  },
  {
   "cell_type": "markdown",
   "metadata": {},
   "source": [
    "## Build the network\n",
    "For the neural network, you'll build each layer into a function.  Most of the code you've seen has been outside of functions. To test your code more thoroughly, we require that you put each layer in a function.  This allows us to give you better feedback and test for simple mistakes using our unittests before you submit your project.\n",
    "\n",
    ">**Note:** If you're finding it hard to dedicate enough time for this course each week, we've provided a small shortcut to this part of the project. In the next couple of problems, you'll have the option to use classes from the [TensorFlow Layers](https://www.tensorflow.org/api_docs/python/tf/layers) or [TensorFlow Layers (contrib)](https://www.tensorflow.org/api_guides/python/contrib.layers) packages to build each layer, except the layers you build in the \"Convolutional and Max Pooling Layer\" section.  TF Layers is similar to Keras's and TFLearn's abstraction to layers, so it's easy to pickup.\n",
    "\n",
    ">However, if you would like to get the most out of this course, try to solve all the problems _without_ using anything from the TF Layers packages. You **can** still use classes from other packages that happen to have the same name as ones you find in TF Layers! For example, instead of using the TF Layers version of the `conv2d` class, [tf.layers.conv2d](https://www.tensorflow.org/api_docs/python/tf/layers/conv2d), you would want to use the TF Neural Network version of `conv2d`, [tf.nn.conv2d](https://www.tensorflow.org/api_docs/python/tf/nn/conv2d). \n",
    "\n",
    "Let's begin!\n",
    "\n",
    "### Input\n",
    "The neural network needs to read the image data, one-hot encoded labels, and dropout keep probability. Implement the following functions\n",
    "* Implement `neural_net_image_input`\n",
    " * Return a [TF Placeholder](https://www.tensorflow.org/api_docs/python/tf/placeholder)\n",
    " * Set the shape using `image_shape` with batch size set to `None`.\n",
    " * Name the TensorFlow placeholder \"x\" using the TensorFlow `name` parameter in the [TF Placeholder](https://www.tensorflow.org/api_docs/python/tf/placeholder).\n",
    "* Implement `neural_net_label_input`\n",
    " * Return a [TF Placeholder](https://www.tensorflow.org/api_docs/python/tf/placeholder)\n",
    " * Set the shape using `n_classes` with batch size set to `None`.\n",
    " * Name the TensorFlow placeholder \"y\" using the TensorFlow `name` parameter in the [TF Placeholder](https://www.tensorflow.org/api_docs/python/tf/placeholder).\n",
    "* Implement `neural_net_keep_prob_input`\n",
    " * Return a [TF Placeholder](https://www.tensorflow.org/api_docs/python/tf/placeholder) for dropout keep probability.\n",
    " * Name the TensorFlow placeholder \"keep_prob\" using the TensorFlow `name` parameter in the [TF Placeholder](https://www.tensorflow.org/api_docs/python/tf/placeholder).\n",
    "\n",
    "These names will be used at the end of the project to load your saved model.\n",
    "\n",
    "Note: `None` for shapes in TensorFlow allow for a dynamic size."
   ]
  },
  {
   "cell_type": "code",
   "execution_count": 3,
   "metadata": {
    "collapsed": false
   },
   "outputs": [
    {
     "name": "stdout",
     "output_type": "stream",
     "text": [
      "Image Input Tests Passed.\n",
      "Label Input Tests Passed.\n",
      "Keep Prob Tests Passed.\n"
     ]
    }
   ],
   "source": [
    "import tensorflow as tf\n",
    "\n",
    "def neural_net_image_input(image_shape):\n",
    "    \"\"\"\n",
    "    Return a Tensor for a bach of image input\n",
    "    : image_shape: Shape of the images\n",
    "    : return: Tensor for image input.\n",
    "    \"\"\"\n",
    "    # TODO: Implement Function\n",
    "    return tf.placeholder(shape=(None,image_shape[0], image_shape[1], image_shape[2]),dtype=tf.float32,name='x')\n",
    "\n",
    "\n",
    "def neural_net_label_input(n_classes):\n",
    "    \"\"\"\n",
    "    Return a Tensor for a batch of label input\n",
    "    : n_classes: Number of classes\n",
    "    : return: Tensor for label input.\n",
    "    \"\"\"\n",
    "    # TODO: Implement Function\n",
    "    return tf.placeholder(shape=(None,n_classes), dtype=tf.float32,name='y')\n",
    "\n",
    "\n",
    "def neural_net_keep_prob_input():\n",
    "    \"\"\"\n",
    "    Return a Tensor for keep probability\n",
    "    : return: Tensor for keep probability.\n",
    "    \"\"\"\n",
    "    # TODO: Implement Function\n",
    "    return tf.placeholder(dtype = tf.float32, name='keep_prob')\n",
    "\n",
    "\n",
    "\"\"\"\n",
    "DON'T MODIFY ANYTHING IN THIS CELL THAT IS BELOW THIS LINE\n",
    "\"\"\"\n",
    "tf.reset_default_graph()\n",
    "tests.test_nn_image_inputs(neural_net_image_input)\n",
    "tests.test_nn_label_inputs(neural_net_label_input)\n",
    "tests.test_nn_keep_prob_inputs(neural_net_keep_prob_input)"
   ]
  },
  {
   "cell_type": "markdown",
   "metadata": {},
   "source": [
    "### Convolution and Max Pooling Layer\n",
    "Convolution layers have a lot of success with images. For this code cell, you should implement the function `conv2d_maxpool` to apply convolution then max pooling:\n",
    "* Create the weight and bias using `conv_ksize`, `conv_num_outputs` and the shape of `x_tensor`.\n",
    "* Apply a convolution to `x_tensor` using weight and `conv_strides`.\n",
    " * We recommend you use same padding, but you're welcome to use any padding.\n",
    "* Add bias\n",
    "* Add a nonlinear activation to the convolution.\n",
    "* Apply Max Pooling using `pool_ksize` and `pool_strides`.\n",
    " * We recommend you use same padding, but you're welcome to use any padding.\n",
    "\n",
    "**Note:** You **can't** use [TensorFlow Layers](https://www.tensorflow.org/api_docs/python/tf/layers) or [TensorFlow Layers (contrib)](https://www.tensorflow.org/api_guides/python/contrib.layers) for **this** layer, but you can still use TensorFlow's [Neural Network](https://www.tensorflow.org/api_docs/python/tf/nn) package. You may still use the shortcut option for all the **other** layers."
   ]
  },
  {
   "cell_type": "code",
   "execution_count": 4,
   "metadata": {
    "collapsed": false
   },
   "outputs": [
    {
     "name": "stdout",
     "output_type": "stream",
     "text": [
      "Tests Passed\n"
     ]
    }
   ],
   "source": [
    "def conv2d_maxpool(x_tensor, conv_num_outputs, conv_ksize, conv_strides, pool_ksize, pool_strides):\n",
    "    \"\"\"\n",
    "    Apply convolution then max pooling to x_tensor\n",
    "    :param x_tensor: TensorFlow Tensor\n",
    "    :param conv_num_outputs: Number of outputs for the convolutional layer\n",
    "    :param conv_ksize: kernal size 2-D Tuple for the convolutional layer\n",
    "    :param conv_strides: Stride 2-D Tuple for convolution\n",
    "    :param pool_ksize: kernal size 2-D Tuple for pool\n",
    "    :param pool_strides: Stride 2-D Tuple for pool\n",
    "    : return: A tensor that represents convolution and max pooling of x_tensor\n",
    "    \"\"\"\n",
    "    # TODO: Implement Function\n",
    "    weights = tf.Variable(tf.truncated_normal([conv_ksize[0],conv_ksize[1],x_tensor.get_shape().as_list()[3],conv_num_outputs]))\n",
    "    initial = tf.constant(0.1,shape=[conv_num_outputs])\n",
    "    biases = tf.Variable(initial)    \n",
    "    padding='SAME'\n",
    "\n",
    "    conv_net = tf.nn.conv2d(x_tensor,weights,strides=[1,conv_strides[0],conv_strides[1],1], padding=padding)\n",
    "    conv_net = tf.nn.bias_add(conv_net, biases)\n",
    "    conv_net = tf.nn.relu(conv_net)\n",
    "    conv_net = tf.nn.max_pool(conv_net,ksize=[1,pool_ksize[0],pool_ksize[1],1],strides=[1,pool_strides[0],pool_strides[1],1],padding=padding)\n",
    "    return conv_net \n",
    "\n",
    "\n",
    "\"\"\"\n",
    "DON'T MODIFY ANYTHING IN THIS CELL THAT IS BELOW THIS LINE\n",
    "\"\"\"\n",
    "tests.test_con_pool(conv2d_maxpool)"
   ]
  },
  {
   "cell_type": "markdown",
   "metadata": {},
   "source": [
    "### Flatten Layer\n",
    "Implement the `flatten` function to change the dimension of `x_tensor` from a 4-D tensor to a 2-D tensor.  The output should be the shape (*Batch Size*, *Flattened Image Size*). Shortcut option: you can use classes from the [TensorFlow Layers](https://www.tensorflow.org/api_docs/python/tf/layers) or [TensorFlow Layers (contrib)](https://www.tensorflow.org/api_guides/python/contrib.layers) packages for this layer. For more of a challenge, only use other TensorFlow packages."
   ]
  },
  {
   "cell_type": "code",
   "execution_count": 5,
   "metadata": {
    "collapsed": false
   },
   "outputs": [
    {
     "name": "stdout",
     "output_type": "stream",
     "text": [
      "Tests Passed\n"
     ]
    }
   ],
   "source": [
    "def flatten(x_tensor):\n",
    "    \"\"\"\n",
    "    Flatten x_tensor to (Batch Size, Flattened Image Size)\n",
    "    : x_tensor: A tensor of size (Batch Size, ...), where ... are the image dimensions.\n",
    "    : return: A tensor of size (Batch Size, Flattened Image Size).\n",
    "    \"\"\"\n",
    "    # TODO: Implement Function\n",
    "    shape = x_tensor.get_shape().as_list()\n",
    "    return tf.reshape(x_tensor,shape=[-1,shape[1]*shape[2]*shape[3]])\n",
    "\n",
    "\n",
    "\"\"\"\n",
    "DON'T MODIFY ANYTHING IN THIS CELL THAT IS BELOW THIS LINE\n",
    "\"\"\"\n",
    "tests.test_flatten(flatten)"
   ]
  },
  {
   "cell_type": "markdown",
   "metadata": {},
   "source": [
    "# PAY ATTENTION!!!\n",
    "### Fully-Connected Layer \n",
    "Implement the `fully_conn` function to apply a fully connected layer to `x_tensor` with the shape (*Batch Size*, *num_outputs*). Shortcut option: you can use classes from the [TensorFlow Layers](https://www.tensorflow.org/api_docs/python/tf/layers) or [TensorFlow Layers (contrib)](https://www.tensorflow.org/api_guides/python/contrib.layers) packages for this layer. For more of a challenge, only use other TensorFlow packages."
   ]
  },
  {
   "cell_type": "code",
   "execution_count": 6,
   "metadata": {
    "collapsed": false
   },
   "outputs": [
    {
     "name": "stdout",
     "output_type": "stream",
     "text": [
      "Tests Passed\n"
     ]
    }
   ],
   "source": [
    "def fully_conn(x_tensor, num_outputs):\n",
    "    \"\"\"\n",
    "    Apply a fully connected layer to x_tensor using weight and bias\n",
    "    : x_tensor: A 2-D tensor where the first dimension is batch size.\n",
    "    : num_outputs: The number of output that the new tensor should be.\n",
    "    : return: A 2-D tensor where the second dimension is num_outputs.\n",
    "    \"\"\"\n",
    "    # TODO: Implement Function\n",
    "    weights = tf.Variable(tf.truncated_normal([x_tensor.get_shape().as_list()[1],num_outputs], dtype=tf.float32,mean=0,stddev=0.01))\n",
    "    initial = tf.constant(0.1,shape=[num_outputs])\n",
    "    biases = tf.Variable(initial)\n",
    "    net = tf.nn.bias_add(tf.matmul(x_tensor, weights), biases)\n",
    "    \n",
    "    return tf.nn.relu(net) \n",
    "\n",
    "\n",
    "\"\"\"\n",
    "DON'T MODIFY ANYTHING IN THIS CELL THAT IS BELOW THIS LINE\n",
    "\"\"\"\n",
    "tests.test_fully_conn(fully_conn)"
   ]
  },
  {
   "cell_type": "markdown",
   "metadata": {},
   "source": [
    "### Output Layer\n",
    "Implement the `output` function to apply a fully connected layer to `x_tensor` with the shape (*Batch Size*, *num_outputs*). Shortcut option: you can use classes from the [TensorFlow Layers](https://www.tensorflow.org/api_docs/python/tf/layers) or [TensorFlow Layers (contrib)](https://www.tensorflow.org/api_guides/python/contrib.layers) packages for this layer. For more of a challenge, only use other TensorFlow packages.\n",
    "\n",
    "**Note:** Activation, softmax, or cross entropy should **not** be applied to this."
   ]
  },
  {
   "cell_type": "code",
   "execution_count": 7,
   "metadata": {
    "collapsed": false
   },
   "outputs": [
    {
     "name": "stdout",
     "output_type": "stream",
     "text": [
      "Tests Passed\n"
     ]
    }
   ],
   "source": [
    "def output(x_tensor, num_outputs):\n",
    "    \"\"\"\n",
    "    Apply a output layer to x_tensor using weight and bias\n",
    "    : x_tensor: A 2-D tensor where the first dimension is batch size.\n",
    "    : num_outputs: The number of output that the new tensor should be.\n",
    "    : return: A 2-D tensor where the second dimension is num_outputs.\n",
    "    \"\"\"\n",
    "    # TODO: Implement Function\n",
    "    weights = tf.Variable(tf.truncated_normal([x_tensor.get_shape().as_list()[1],num_outputs], dtype=tf.float32,mean=0, stddev=0.01))\n",
    "    initial = tf.constant(0.1,shape=[num_outputs])\n",
    "    biases = tf.Variable(initial)\n",
    "    \n",
    "    return tf.add(tf.matmul(x_tensor, weights), biases)\n",
    "\n",
    "\n",
    "\"\"\"\n",
    "DON'T MODIFY ANYTHING IN THIS CELL THAT IS BELOW THIS LINE\n",
    "\"\"\"\n",
    "tests.test_output(output)"
   ]
  },
  {
   "cell_type": "markdown",
   "metadata": {},
   "source": [
    "# PAY ATTENTION!!!\n",
    "\n",
    "### Create Convolutional Model\n",
    "Implement the function `conv_net` to create a convolutional neural network model. The function takes in a batch of images, `x`, and outputs logits.  Use the layers you created above to create this model:\n",
    "\n",
    "* Apply 1, 2, or 3 Convolution and Max Pool layers\n",
    "* Apply a Flatten Layer\n",
    "* Apply 1, 2, or 3 Fully Connected Layers\n",
    "* Apply an Output Layer\n",
    "* Return the output\n",
    "* Apply [TensorFlow's Dropout](https://www.tensorflow.org/api_docs/python/tf/nn/dropout) to one or more layers in the model using `keep_prob`. "
   ]
  },
  {
   "cell_type": "code",
   "execution_count": 8,
   "metadata": {
    "collapsed": false
   },
   "outputs": [
    {
     "name": "stdout",
     "output_type": "stream",
     "text": [
      "Neural Network Built!\n"
     ]
    }
   ],
   "source": [
    "def conv_net(x, keep_prob):\n",
    "    \"\"\"\n",
    "    Create a convolutional neural network model\n",
    "    : x: Placeholder tensor that holds image data.\n",
    "    : keep_prob: Placeholder tensor that hold dropout keep probability.\n",
    "    : return: Tensor that represents logits\n",
    "    \"\"\"\n",
    "    # TODO: Apply 1, 2, or 3 Convolution and Max Pool layers\n",
    "    #    Play around with different number of outputs, kernel size and stride\n",
    "    # Function Definition from Above:\n",
    "    #    conv2d_maxpool(x_tensor, conv_num_outputs, conv_ksize, conv_strides, pool_ksize, pool_strides)\n",
    "    \n",
    "    \n",
    "    W_conv1 = tf.Variable(tf.truncated_normal([5,5,x.get_shape().as_list()[3], 32], mean=0, stddev=0.01))\n",
    "    b_conv1 = tf.Variable(tf.constant(0.1, shape=[32]))\n",
    "    neural_net=tf.nn.conv2d(x,W_conv1, strides=[1,1,1,1], padding='SAME')\n",
    "    neural_net = tf.nn.bias_add(neural_net, b_conv1)\n",
    "    neural_net = tf.nn.relu(neural_net)\n",
    "\n",
    "    neural_net = conv2d_maxpool(neural_net,64,(3,3),(1,1),(2,2),(2,2))\n",
    "\n",
    "\n",
    "    # TODO: Apply a Flatten Layer\n",
    "    # Function Definition from Above:\n",
    "    #   flatten(x_tensor)\n",
    "    fnn = flatten(neural_net)\n",
    "\n",
    "    # TODO: Apply 1, 2, or 3 Fully Connected Layers\n",
    "    #    Play around with different number of outputs\n",
    "    # Function Definition from Above:\n",
    "    #   fully_conn(x_tensor, num_outputs)\n",
    "    fcnn= fully_conn(fnn,64)\n",
    "    fcnn = tf.nn.dropout(fcnn,keep_prob)\n",
    "\n",
    "    \n",
    "    # TODO: Apply an Output Layer\n",
    "    #    Set this to the number of classes\n",
    "    # Function Definition from Above:\n",
    "    #   output(x_tensor, num_outputs)\n",
    "    out=output(fcnn,10)\n",
    "    \n",
    "    # TODO: return output\n",
    "    return out\n",
    "\n",
    "\n",
    "\"\"\"\n",
    "DON'T MODIFY ANYTHING IN THIS CELL THAT IS BELOW THIS LINE\n",
    "\"\"\"\n",
    "\n",
    "##############################\n",
    "## Build the Neural Network ##\n",
    "##############################\n",
    "\n",
    "# Remove previous weights, bias, inputs, etc..\n",
    "tf.reset_default_graph()\n",
    "\n",
    "# Inputs\n",
    "x = neural_net_image_input((32, 32, 3))\n",
    "y = neural_net_label_input(10)\n",
    "keep_prob = neural_net_keep_prob_input()\n",
    "\n",
    "# Model\n",
    "logits = conv_net(x, keep_prob)\n",
    "\n",
    "# Name logits Tensor, so that is can be loaded from disk after training\n",
    "logits = tf.identity(logits, name='logits')\n",
    "\n",
    "# Loss and Optimizer\n",
    "cost = tf.reduce_mean(tf.nn.softmax_cross_entropy_with_logits(logits=logits, labels=y))\n",
    "optimizer = tf.train.AdamOptimizer().minimize(cost)\n",
    "\n",
    "# Accuracy\n",
    "correct_pred = tf.equal(tf.argmax(logits, 1), tf.argmax(y, 1))\n",
    "accuracy = tf.reduce_mean(tf.cast(correct_pred, tf.float32), name='accuracy')\n",
    "\n",
    "tests.test_conv_net(conv_net)"
   ]
  },
  {
   "cell_type": "markdown",
   "metadata": {},
   "source": [
    "## Train the Neural Network\n",
    "### Single Optimization\n",
    "Implement the function `train_neural_network` to do a single optimization.  The optimization should use `optimizer` to optimize in `session` with a `feed_dict` of the following:\n",
    "* `x` for image input\n",
    "* `y` for labels\n",
    "* `keep_prob` for keep probability for dropout\n",
    "\n",
    "This function will be called for each batch, so `tf.global_variables_initializer()` has already been called.\n",
    "\n",
    "Note: Nothing needs to be returned. This function is only optimizing the neural network."
   ]
  },
  {
   "cell_type": "code",
   "execution_count": 99,
   "metadata": {
    "collapsed": false
   },
   "outputs": [
    {
     "name": "stdout",
     "output_type": "stream",
     "text": [
      "Tests Passed\n"
     ]
    }
   ],
   "source": [
    "def train_neural_network(session, optimizer, keep_probability, feature_batch, label_batch):\n",
    "    \"\"\"\n",
    "    Optimize the session on a batch of images and labels\n",
    "    : session: Current TensorFlow session\n",
    "    : optimizer: TensorFlow optimizer function\n",
    "    : keep_probability: keep probability\n",
    "    : feature_batch: Batch of Numpy image data\n",
    "    : label_batch: Batch of Numpy label data\n",
    "    \"\"\"\n",
    "    # TODO: Implement Function\n",
    "    session.run(optimizer, feed_dict={x: feature_batch, y: label_batch, keep_prob: keep_probability})\n",
    "\n",
    "\n",
    "    \"\"\"\n",
    "DON'T MODIFY ANYTHING IN THIS CELL THAT IS BELOW THIS LINE\n",
    "\"\"\"\n",
    "tests.test_train_nn(train_neural_network)"
   ]
  },
  {
   "cell_type": "markdown",
   "metadata": {},
   "source": [
    "### Show Stats\n",
    "Implement the function `print_stats` to print loss and validation accuracy.  Use the global variables `valid_features` and `valid_labels` to calculate validation accuracy.  Use a keep probability of `1.0` to calculate the loss and validation accuracy."
   ]
  },
  {
   "cell_type": "code",
   "execution_count": 100,
   "metadata": {
    "collapsed": false
   },
   "outputs": [],
   "source": [
    "def print_stats(session, feature_batch, label_batch, cost, accuracy):\n",
    "    \"\"\"\n",
    "    Print information about loss and validation accuracy\n",
    "    : session: Current TensorFlow session\n",
    "    : feature_batch: Batch of Numpy image data\n",
    "    : label_batch: Batch of Numpy label data\n",
    "    : cost: TensorFlow cost function\n",
    "    : accuracy: TensorFlow accuracy function\n",
    "    \"\"\"\n",
    "    loss = session.run(cost, feed_dict={x: feature_batch, y: label_batch, keep_prob: 1.0})\n",
    "    valid_acc = session.run(accuracy, feed_dict={x: valid_features, y: valid_labels, keep_prob: 1.0})\n",
    "    print('Loss: {:>10.4f} Accuracy: {:.6f}'.format(loss,valid_acc))\n"
   ]
  },
  {
   "cell_type": "markdown",
   "metadata": {},
   "source": [
    "### Hyperparameters\n",
    "Tune the following parameters:\n",
    "* Set `epochs` to the number of iterations until the network stops learning or start overfitting\n",
    "* Set `batch_size` to the highest number that your machine has memory for.  Most people set them to common sizes of memory:\n",
    " * 64\n",
    " * 128\n",
    " * 256\n",
    " * ...\n",
    "* Set `keep_probability` to the probability of keeping a node using dropout"
   ]
  },
  {
   "cell_type": "code",
   "execution_count": 103,
   "metadata": {
    "collapsed": true
   },
   "outputs": [],
   "source": [
    "# TODO: Tune Parameters\n",
    "epochs = 50\n",
    "batch_size = 64\n",
    "keep_probability = .5"
   ]
  },
  {
   "cell_type": "markdown",
   "metadata": {},
   "source": [
    "### Train on a Single CIFAR-10 Batch\n",
    "Instead of training the neural network on all the CIFAR-10 batches of data, let's use a single batch. This should save time while you iterate on the model to get a better accuracy.  Once the final validation accuracy is 50% or greater, run the model on all the data in the next section."
   ]
  },
  {
   "cell_type": "markdown",
   "metadata": {},
   "source": [
    "epoch 20 = 25%"
   ]
  },
  {
   "cell_type": "code",
   "execution_count": 102,
   "metadata": {
    "collapsed": false,
    "scrolled": true
   },
   "outputs": [
    {
     "name": "stdout",
     "output_type": "stream",
     "text": [
      "Checking the Training on a Single Batch...\n",
      "Epoch  1, CIFAR-10 Batch 1:  Loss:     2.1478 Accuracy: 0.260200\n",
      "Epoch  2, CIFAR-10 Batch 1:  Loss:     2.0682 Accuracy: 0.294400\n",
      "Epoch  3, CIFAR-10 Batch 1:  Loss:     2.0598 Accuracy: 0.349000\n",
      "Epoch  4, CIFAR-10 Batch 1:  Loss:     2.0450 Accuracy: 0.360800\n",
      "Epoch  5, CIFAR-10 Batch 1:  Loss:     1.8713 Accuracy: 0.382200\n",
      "Epoch  6, CIFAR-10 Batch 1:  Loss:     1.8648 Accuracy: 0.371800\n",
      "Epoch  7, CIFAR-10 Batch 1:  Loss:     1.8048 Accuracy: 0.401200\n",
      "Epoch  8, CIFAR-10 Batch 1:  Loss:     1.6912 Accuracy: 0.411000\n",
      "Epoch  9, CIFAR-10 Batch 1:  Loss:     1.6800 Accuracy: 0.406600\n",
      "Epoch 10, CIFAR-10 Batch 1:  Loss:     1.6804 Accuracy: 0.409800\n",
      "Epoch 11, CIFAR-10 Batch 1:  Loss:     1.5981 Accuracy: 0.438200\n",
      "Epoch 12, CIFAR-10 Batch 1:  Loss:     1.5597 Accuracy: 0.424400\n",
      "Epoch 13, CIFAR-10 Batch 1:  Loss:     1.4438 Accuracy: 0.446200\n",
      "Epoch 14, CIFAR-10 Batch 1:  Loss:     1.4373 Accuracy: 0.449800\n",
      "Epoch 15, CIFAR-10 Batch 1:  Loss:     1.3840 Accuracy: 0.437200\n",
      "Epoch 16, CIFAR-10 Batch 1:  Loss:     1.3670 Accuracy: 0.460600\n",
      "Epoch 17, CIFAR-10 Batch 1:  Loss:     1.4113 Accuracy: 0.463600\n",
      "Epoch 18, CIFAR-10 Batch 1:  Loss:     1.2919 Accuracy: 0.462400\n",
      "Epoch 19, CIFAR-10 Batch 1:  Loss:     1.3125 Accuracy: 0.466200\n",
      "Epoch 20, CIFAR-10 Batch 1:  Loss:     1.2200 Accuracy: 0.464600\n",
      "Epoch 21, CIFAR-10 Batch 1:  Loss:     1.1457 Accuracy: 0.485800\n",
      "Epoch 22, CIFAR-10 Batch 1:  Loss:     1.1004 Accuracy: 0.494200\n",
      "Epoch 23, CIFAR-10 Batch 1:  Loss:     1.0957 Accuracy: 0.481200\n",
      "Epoch 24, CIFAR-10 Batch 1:  Loss:     1.1043 Accuracy: 0.504000\n",
      "Epoch 25, CIFAR-10 Batch 1:  Loss:     1.0917 Accuracy: 0.474600\n",
      "Epoch 26, CIFAR-10 Batch 1:  Loss:     0.9620 Accuracy: 0.489800\n",
      "Epoch 27, CIFAR-10 Batch 1:  Loss:     0.9658 Accuracy: 0.484800\n",
      "Epoch 28, CIFAR-10 Batch 1:  Loss:     0.9539 Accuracy: 0.479000\n",
      "Epoch 29, CIFAR-10 Batch 1:  Loss:     0.9925 Accuracy: 0.469800\n",
      "Epoch 30, CIFAR-10 Batch 1:  Loss:     0.8791 Accuracy: 0.498400\n",
      "Epoch 31, CIFAR-10 Batch 1:  Loss:     0.8532 Accuracy: 0.482400\n",
      "Epoch 32, CIFAR-10 Batch 1:  Loss:     0.9416 Accuracy: 0.481000\n",
      "Epoch 33, CIFAR-10 Batch 1:  Loss:     0.8829 Accuracy: 0.498000\n",
      "Epoch 34, CIFAR-10 Batch 1:  Loss:     0.8181 Accuracy: 0.493400\n",
      "Epoch 35, CIFAR-10 Batch 1:  Loss:     0.7882 Accuracy: 0.496800\n",
      "Epoch 36, CIFAR-10 Batch 1:  Loss:     0.7457 Accuracy: 0.499400\n",
      "Epoch 37, CIFAR-10 Batch 1:  Loss:     0.7713 Accuracy: 0.493800\n",
      "Epoch 38, CIFAR-10 Batch 1:  Loss:     0.6574 Accuracy: 0.501600\n",
      "Epoch 39, CIFAR-10 Batch 1:  Loss:     0.6701 Accuracy: 0.503000\n",
      "Epoch 40, CIFAR-10 Batch 1:  Loss:     0.6850 Accuracy: 0.505200\n",
      "Epoch 41, CIFAR-10 Batch 1:  Loss:     0.7148 Accuracy: 0.503200\n",
      "Epoch 42, CIFAR-10 Batch 1:  Loss:     0.6407 Accuracy: 0.503200\n",
      "Epoch 43, CIFAR-10 Batch 1:  Loss:     0.6732 Accuracy: 0.510800\n",
      "Epoch 44, CIFAR-10 Batch 1:  Loss:     0.6498 Accuracy: 0.506400\n",
      "Epoch 45, CIFAR-10 Batch 1:  Loss:     0.6136 Accuracy: 0.509000\n",
      "Epoch 46, CIFAR-10 Batch 1:  Loss:     0.6399 Accuracy: 0.488800\n",
      "Epoch 47, CIFAR-10 Batch 1:  Loss:     0.5711 Accuracy: 0.503600\n",
      "Epoch 48, CIFAR-10 Batch 1:  Loss:     0.6300 Accuracy: 0.496200\n",
      "Epoch 49, CIFAR-10 Batch 1:  Loss:     0.5903 Accuracy: 0.502600\n",
      "Epoch 50, CIFAR-10 Batch 1:  Loss:     0.5850 Accuracy: 0.512800\n",
      "Epoch 51, CIFAR-10 Batch 1:  Loss:     0.5419 Accuracy: 0.496200\n",
      "Epoch 52, CIFAR-10 Batch 1:  Loss:     0.5930 Accuracy: 0.497600\n",
      "Epoch 53, CIFAR-10 Batch 1:  Loss:     0.5456 Accuracy: 0.498400\n",
      "Epoch 54, CIFAR-10 Batch 1:  Loss:     0.5049 Accuracy: 0.501400\n",
      "Epoch 55, CIFAR-10 Batch 1:  Loss:     0.5682 Accuracy: 0.497600\n",
      "Epoch 56, CIFAR-10 Batch 1:  Loss:     0.5670 Accuracy: 0.493200\n",
      "Epoch 57, CIFAR-10 Batch 1:  Loss:     0.5725 Accuracy: 0.498000\n",
      "Epoch 58, CIFAR-10 Batch 1:  Loss:     0.4956 Accuracy: 0.497800\n",
      "Epoch 59, CIFAR-10 Batch 1:  Loss:     0.5184 Accuracy: 0.488000\n",
      "Epoch 60, CIFAR-10 Batch 1:  Loss:     0.4286 Accuracy: 0.487000\n",
      "Epoch 61, CIFAR-10 Batch 1:  Loss:     0.4844 Accuracy: 0.489200\n",
      "Epoch 62, CIFAR-10 Batch 1:  Loss:     0.5612 Accuracy: 0.473400\n",
      "Epoch 63, CIFAR-10 Batch 1:  Loss:     0.4586 Accuracy: 0.485200\n",
      "Epoch 64, CIFAR-10 Batch 1:  Loss:     0.5044 Accuracy: 0.489800\n",
      "Epoch 65, CIFAR-10 Batch 1:  Loss:     0.4303 Accuracy: 0.493000\n",
      "Epoch 66, CIFAR-10 Batch 1:  Loss:     0.4888 Accuracy: 0.493000\n",
      "Epoch 67, CIFAR-10 Batch 1:  Loss:     0.4350 Accuracy: 0.493200\n",
      "Epoch 68, CIFAR-10 Batch 1:  Loss:     0.4361 Accuracy: 0.486400\n",
      "Epoch 69, CIFAR-10 Batch 1:  Loss:     0.4403 Accuracy: 0.490800\n",
      "Epoch 70, CIFAR-10 Batch 1:  Loss:     0.4500 Accuracy: 0.494200\n",
      "Epoch 71, CIFAR-10 Batch 1:  Loss:     0.4533 Accuracy: 0.493400\n",
      "Epoch 72, CIFAR-10 Batch 1:  Loss:     0.4234 Accuracy: 0.489800\n",
      "Epoch 73, CIFAR-10 Batch 1:  Loss:     0.4128 Accuracy: 0.494600\n",
      "Epoch 74, CIFAR-10 Batch 1:  Loss:     0.3733 Accuracy: 0.496800\n",
      "Epoch 75, CIFAR-10 Batch 1:  Loss:     0.3414 Accuracy: 0.495400\n",
      "Epoch 76, CIFAR-10 Batch 1:  Loss:     0.3562 Accuracy: 0.494800\n",
      "Epoch 77, CIFAR-10 Batch 1:  Loss:     0.3391 Accuracy: 0.494600\n",
      "Epoch 78, CIFAR-10 Batch 1:  Loss:     0.3754 Accuracy: 0.492600\n",
      "Epoch 79, CIFAR-10 Batch 1:  Loss:     0.3475 Accuracy: 0.491600\n",
      "Epoch 80, CIFAR-10 Batch 1:  Loss:     0.3192 Accuracy: 0.494800\n",
      "Epoch 81, CIFAR-10 Batch 1:  Loss:     0.3207 Accuracy: 0.496600\n",
      "Epoch 82, CIFAR-10 Batch 1:  Loss:     0.3308 Accuracy: 0.505800\n",
      "Epoch 83, CIFAR-10 Batch 1:  Loss:     0.3190 Accuracy: 0.496000\n",
      "Epoch 84, CIFAR-10 Batch 1:  Loss:     0.3257 Accuracy: 0.496800\n",
      "Epoch 85, CIFAR-10 Batch 1:  Loss:     0.3462 Accuracy: 0.501400\n",
      "Epoch 86, CIFAR-10 Batch 1:  Loss:     0.3460 Accuracy: 0.499800\n",
      "Epoch 87, CIFAR-10 Batch 1:  Loss:     0.3136 Accuracy: 0.489600\n",
      "Epoch 88, CIFAR-10 Batch 1:  Loss:     0.4707 Accuracy: 0.484000\n",
      "Epoch 89, CIFAR-10 Batch 1:  Loss:     0.3448 Accuracy: 0.497800\n",
      "Epoch 90, CIFAR-10 Batch 1:  Loss:     0.3502 Accuracy: 0.492400\n",
      "Epoch 91, CIFAR-10 Batch 1:  Loss:     0.3444 Accuracy: 0.501600\n",
      "Epoch 92, CIFAR-10 Batch 1:  Loss:     0.3201 Accuracy: 0.484800\n",
      "Epoch 93, CIFAR-10 Batch 1:  Loss:     0.3758 Accuracy: 0.499800\n",
      "Epoch 94, CIFAR-10 Batch 1:  Loss:     0.3149 Accuracy: 0.497600\n",
      "Epoch 95, CIFAR-10 Batch 1:  Loss:     0.3312 Accuracy: 0.495800\n",
      "Epoch 96, CIFAR-10 Batch 1:  Loss:     0.3269 Accuracy: 0.499200\n",
      "Epoch 97, CIFAR-10 Batch 1:  Loss:     0.3437 Accuracy: 0.496800\n",
      "Epoch 98, CIFAR-10 Batch 1:  Loss:     0.3219 Accuracy: 0.496600\n",
      "Epoch 99, CIFAR-10 Batch 1:  Loss:     0.3255 Accuracy: 0.503000\n",
      "Epoch 100, CIFAR-10 Batch 1:  Loss:     0.3012 Accuracy: 0.489800\n"
     ]
    }
   ],
   "source": [
    "\"\"\"\n",
    "DON'T MODIFY ANYTHING IN THIS CELL\n",
    "\"\"\"\n",
    "print('Checking the Training on a Single Batch...')\n",
    "with tf.Session() as sess:\n",
    "    # Initializing the variables\n",
    "    sess.run(tf.global_variables_initializer())\n",
    "    \n",
    "    # Training cycle\n",
    "    for epoch in range(epochs):\n",
    "        batch_i = 1\n",
    "        for batch_features, batch_labels in helper.load_preprocess_training_batch(batch_i, batch_size):\n",
    "            train_neural_network(sess, optimizer, keep_probability, batch_features, batch_labels)\n",
    "        print('Epoch {:>2}, CIFAR-10 Batch {}:  '.format(epoch + 1, batch_i), end='')\n",
    "        print_stats(sess, batch_features, batch_labels, cost, accuracy)"
   ]
  },
  {
   "cell_type": "markdown",
   "metadata": {},
   "source": [
    "### Fully Train the Model\n",
    "Now that you got a good accuracy with a single CIFAR-10 batch, try it with all five batches."
   ]
  },
  {
   "cell_type": "code",
   "execution_count": 104,
   "metadata": {
    "collapsed": false
   },
   "outputs": [
    {
     "name": "stdout",
     "output_type": "stream",
     "text": [
      "Training...\n",
      "Epoch  1, CIFAR-10 Batch 1:  Loss:     2.1892 Accuracy: 0.219600\n",
      "Epoch  1, CIFAR-10 Batch 2:  Loss:     1.9947 Accuracy: 0.276000\n",
      "Epoch  1, CIFAR-10 Batch 3:  Loss:     1.7337 Accuracy: 0.319000\n",
      "Epoch  1, CIFAR-10 Batch 4:  Loss:     1.7684 Accuracy: 0.331200\n",
      "Epoch  1, CIFAR-10 Batch 5:  Loss:     1.8248 Accuracy: 0.323200\n",
      "Epoch  2, CIFAR-10 Batch 1:  Loss:     1.9302 Accuracy: 0.353800\n",
      "Epoch  2, CIFAR-10 Batch 2:  Loss:     1.7269 Accuracy: 0.355600\n",
      "Epoch  2, CIFAR-10 Batch 3:  Loss:     1.5528 Accuracy: 0.333600\n",
      "Epoch  2, CIFAR-10 Batch 4:  Loss:     1.7282 Accuracy: 0.378200\n",
      "Epoch  2, CIFAR-10 Batch 5:  Loss:     1.6596 Accuracy: 0.379000\n",
      "Epoch  3, CIFAR-10 Batch 1:  Loss:     1.8181 Accuracy: 0.398800\n",
      "Epoch  3, CIFAR-10 Batch 2:  Loss:     1.7071 Accuracy: 0.391200\n",
      "Epoch  3, CIFAR-10 Batch 3:  Loss:     1.4760 Accuracy: 0.404400\n",
      "Epoch  3, CIFAR-10 Batch 4:  Loss:     1.6970 Accuracy: 0.407200\n",
      "Epoch  3, CIFAR-10 Batch 5:  Loss:     1.5646 Accuracy: 0.405800\n",
      "Epoch  4, CIFAR-10 Batch 1:  Loss:     1.7492 Accuracy: 0.427800\n",
      "Epoch  4, CIFAR-10 Batch 2:  Loss:     1.6560 Accuracy: 0.421600\n",
      "Epoch  4, CIFAR-10 Batch 3:  Loss:     1.3694 Accuracy: 0.423800\n",
      "Epoch  4, CIFAR-10 Batch 4:  Loss:     1.5859 Accuracy: 0.426200\n",
      "Epoch  4, CIFAR-10 Batch 5:  Loss:     1.4417 Accuracy: 0.438400\n",
      "Epoch  5, CIFAR-10 Batch 1:  Loss:     1.6646 Accuracy: 0.441400\n",
      "Epoch  5, CIFAR-10 Batch 2:  Loss:     1.5472 Accuracy: 0.429600\n",
      "Epoch  5, CIFAR-10 Batch 3:  Loss:     1.3133 Accuracy: 0.443600\n",
      "Epoch  5, CIFAR-10 Batch 4:  Loss:     1.5382 Accuracy: 0.461000\n",
      "Epoch  5, CIFAR-10 Batch 5:  Loss:     1.4857 Accuracy: 0.446400\n",
      "Epoch  6, CIFAR-10 Batch 1:  Loss:     1.6049 Accuracy: 0.457800\n",
      "Epoch  6, CIFAR-10 Batch 2:  Loss:     1.4489 Accuracy: 0.463600\n",
      "Epoch  6, CIFAR-10 Batch 3:  Loss:     1.3135 Accuracy: 0.466200\n",
      "Epoch  6, CIFAR-10 Batch 4:  Loss:     1.5191 Accuracy: 0.477000\n",
      "Epoch  6, CIFAR-10 Batch 5:  Loss:     1.3612 Accuracy: 0.486200\n",
      "Epoch  7, CIFAR-10 Batch 1:  Loss:     1.4835 Accuracy: 0.466400\n",
      "Epoch  7, CIFAR-10 Batch 2:  Loss:     1.4079 Accuracy: 0.478800\n",
      "Epoch  7, CIFAR-10 Batch 3:  Loss:     1.2960 Accuracy: 0.462800\n",
      "Epoch  7, CIFAR-10 Batch 4:  Loss:     1.5542 Accuracy: 0.466200\n",
      "Epoch  7, CIFAR-10 Batch 5:  Loss:     1.2385 Accuracy: 0.478000\n",
      "Epoch  8, CIFAR-10 Batch 1:  Loss:     1.4737 Accuracy: 0.454600\n",
      "Epoch  8, CIFAR-10 Batch 2:  Loss:     1.3828 Accuracy: 0.480400\n",
      "Epoch  8, CIFAR-10 Batch 3:  Loss:     1.2510 Accuracy: 0.473400\n",
      "Epoch  8, CIFAR-10 Batch 4:  Loss:     1.3650 Accuracy: 0.489400\n",
      "Epoch  8, CIFAR-10 Batch 5:  Loss:     1.3039 Accuracy: 0.475000\n",
      "Epoch  9, CIFAR-10 Batch 1:  Loss:     1.3905 Accuracy: 0.464600\n",
      "Epoch  9, CIFAR-10 Batch 2:  Loss:     1.3925 Accuracy: 0.496600\n",
      "Epoch  9, CIFAR-10 Batch 3:  Loss:     1.2490 Accuracy: 0.487600\n",
      "Epoch  9, CIFAR-10 Batch 4:  Loss:     1.3898 Accuracy: 0.500400\n",
      "Epoch  9, CIFAR-10 Batch 5:  Loss:     1.2569 Accuracy: 0.495400\n",
      "Epoch 10, CIFAR-10 Batch 1:  Loss:     1.3223 Accuracy: 0.476400\n",
      "Epoch 10, CIFAR-10 Batch 2:  Loss:     1.3377 Accuracy: 0.502400\n",
      "Epoch 10, CIFAR-10 Batch 3:  Loss:     1.2489 Accuracy: 0.480200\n",
      "Epoch 10, CIFAR-10 Batch 4:  Loss:     1.4383 Accuracy: 0.488400\n",
      "Epoch 10, CIFAR-10 Batch 5:  Loss:     1.1614 Accuracy: 0.501600\n",
      "Epoch 11, CIFAR-10 Batch 1:  Loss:     1.3670 Accuracy: 0.472800\n",
      "Epoch 11, CIFAR-10 Batch 2:  Loss:     1.3002 Accuracy: 0.502600\n",
      "Epoch 11, CIFAR-10 Batch 3:  Loss:     1.2102 Accuracy: 0.486200\n",
      "Epoch 11, CIFAR-10 Batch 4:  Loss:     1.3167 Accuracy: 0.509800\n",
      "Epoch 11, CIFAR-10 Batch 5:  Loss:     1.1452 Accuracy: 0.481200\n",
      "Epoch 12, CIFAR-10 Batch 1:  Loss:     1.3102 Accuracy: 0.506400\n",
      "Epoch 12, CIFAR-10 Batch 2:  Loss:     1.2537 Accuracy: 0.507200\n",
      "Epoch 12, CIFAR-10 Batch 3:  Loss:     1.1803 Accuracy: 0.483800\n",
      "Epoch 12, CIFAR-10 Batch 4:  Loss:     1.2671 Accuracy: 0.507800\n",
      "Epoch 12, CIFAR-10 Batch 5:  Loss:     1.1475 Accuracy: 0.497400\n",
      "Epoch 13, CIFAR-10 Batch 1:  Loss:     1.2878 Accuracy: 0.490600\n",
      "Epoch 13, CIFAR-10 Batch 2:  Loss:     1.1466 Accuracy: 0.516000\n",
      "Epoch 13, CIFAR-10 Batch 3:  Loss:     1.1464 Accuracy: 0.482800\n",
      "Epoch 13, CIFAR-10 Batch 4:  Loss:     1.2227 Accuracy: 0.518000\n",
      "Epoch 13, CIFAR-10 Batch 5:  Loss:     1.1273 Accuracy: 0.502400\n",
      "Epoch 14, CIFAR-10 Batch 1:  Loss:     1.1848 Accuracy: 0.507800\n",
      "Epoch 14, CIFAR-10 Batch 2:  Loss:     1.1898 Accuracy: 0.496000\n",
      "Epoch 14, CIFAR-10 Batch 3:  Loss:     1.1473 Accuracy: 0.484000\n",
      "Epoch 14, CIFAR-10 Batch 4:  Loss:     1.1766 Accuracy: 0.500800\n",
      "Epoch 14, CIFAR-10 Batch 5:  Loss:     1.0769 Accuracy: 0.495400\n",
      "Epoch 15, CIFAR-10 Batch 1:  Loss:     1.2363 Accuracy: 0.496600\n",
      "Epoch 15, CIFAR-10 Batch 2:  Loss:     1.2302 Accuracy: 0.507600\n",
      "Epoch 15, CIFAR-10 Batch 3:  Loss:     1.0731 Accuracy: 0.496000\n",
      "Epoch 15, CIFAR-10 Batch 4:  Loss:     1.1923 Accuracy: 0.505200\n",
      "Epoch 15, CIFAR-10 Batch 5:  Loss:     1.0825 Accuracy: 0.512400\n",
      "Epoch 16, CIFAR-10 Batch 1:  Loss:     1.2037 Accuracy: 0.472800\n",
      "Epoch 16, CIFAR-10 Batch 2:  Loss:     1.1506 Accuracy: 0.505600\n",
      "Epoch 16, CIFAR-10 Batch 3:  Loss:     1.1333 Accuracy: 0.502200\n",
      "Epoch 16, CIFAR-10 Batch 4:  Loss:     1.1610 Accuracy: 0.508200\n",
      "Epoch 16, CIFAR-10 Batch 5:  Loss:     1.0818 Accuracy: 0.510400\n",
      "Epoch 17, CIFAR-10 Batch 1:  Loss:     1.1468 Accuracy: 0.512800\n",
      "Epoch 17, CIFAR-10 Batch 2:  Loss:     1.1708 Accuracy: 0.498600\n",
      "Epoch 17, CIFAR-10 Batch 3:  Loss:     1.0230 Accuracy: 0.507800\n",
      "Epoch 17, CIFAR-10 Batch 4:  Loss:     1.1760 Accuracy: 0.523400\n",
      "Epoch 17, CIFAR-10 Batch 5:  Loss:     1.0425 Accuracy: 0.515600\n",
      "Epoch 18, CIFAR-10 Batch 1:  Loss:     1.1350 Accuracy: 0.504200\n",
      "Epoch 18, CIFAR-10 Batch 2:  Loss:     1.1963 Accuracy: 0.501000\n",
      "Epoch 18, CIFAR-10 Batch 3:  Loss:     1.0210 Accuracy: 0.499400\n",
      "Epoch 18, CIFAR-10 Batch 4:  Loss:     1.0839 Accuracy: 0.508200\n",
      "Epoch 18, CIFAR-10 Batch 5:  Loss:     1.0301 Accuracy: 0.517200\n",
      "Epoch 19, CIFAR-10 Batch 1:  Loss:     1.0690 Accuracy: 0.523400\n",
      "Epoch 19, CIFAR-10 Batch 2:  Loss:     1.1540 Accuracy: 0.507800\n",
      "Epoch 19, CIFAR-10 Batch 3:  Loss:     1.1193 Accuracy: 0.503600\n",
      "Epoch 19, CIFAR-10 Batch 4:  Loss:     1.0867 Accuracy: 0.509200\n",
      "Epoch 19, CIFAR-10 Batch 5:  Loss:     1.0415 Accuracy: 0.505800\n",
      "Epoch 20, CIFAR-10 Batch 1:  Loss:     1.0995 Accuracy: 0.501800\n",
      "Epoch 20, CIFAR-10 Batch 2:  Loss:     1.1773 Accuracy: 0.501400\n",
      "Epoch 20, CIFAR-10 Batch 3:  Loss:     1.0538 Accuracy: 0.499400\n",
      "Epoch 20, CIFAR-10 Batch 4:  Loss:     1.0801 Accuracy: 0.510800\n",
      "Epoch 20, CIFAR-10 Batch 5:  Loss:     0.9900 Accuracy: 0.502400\n",
      "Epoch 21, CIFAR-10 Batch 1:  Loss:     1.0676 Accuracy: 0.502200\n",
      "Epoch 21, CIFAR-10 Batch 2:  Loss:     1.1068 Accuracy: 0.502800\n",
      "Epoch 21, CIFAR-10 Batch 3:  Loss:     1.0105 Accuracy: 0.505200\n",
      "Epoch 21, CIFAR-10 Batch 4:  Loss:     1.0774 Accuracy: 0.521400\n",
      "Epoch 21, CIFAR-10 Batch 5:  Loss:     0.9633 Accuracy: 0.499400\n",
      "Epoch 22, CIFAR-10 Batch 1:  Loss:     1.0496 Accuracy: 0.510400\n",
      "Epoch 22, CIFAR-10 Batch 2:  Loss:     1.0334 Accuracy: 0.491000\n",
      "Epoch 22, CIFAR-10 Batch 3:  Loss:     0.9891 Accuracy: 0.502200\n",
      "Epoch 22, CIFAR-10 Batch 4:  Loss:     1.0491 Accuracy: 0.511800\n",
      "Epoch 22, CIFAR-10 Batch 5:  Loss:     1.0007 Accuracy: 0.521000\n",
      "Epoch 23, CIFAR-10 Batch 1:  Loss:     1.0322 Accuracy: 0.523800\n",
      "Epoch 23, CIFAR-10 Batch 2:  Loss:     1.0884 Accuracy: 0.481200\n",
      "Epoch 23, CIFAR-10 Batch 3:  Loss:     0.9840 Accuracy: 0.505800\n",
      "Epoch 23, CIFAR-10 Batch 4:  Loss:     1.0974 Accuracy: 0.494800\n",
      "Epoch 23, CIFAR-10 Batch 5:  Loss:     0.9665 Accuracy: 0.512400\n",
      "Epoch 24, CIFAR-10 Batch 1:  Loss:     1.0951 Accuracy: 0.514600\n",
      "Epoch 24, CIFAR-10 Batch 2:  Loss:     1.0141 Accuracy: 0.510400\n",
      "Epoch 24, CIFAR-10 Batch 3:  Loss:     0.9558 Accuracy: 0.497600\n",
      "Epoch 24, CIFAR-10 Batch 4:  Loss:     1.0944 Accuracy: 0.505200\n",
      "Epoch 24, CIFAR-10 Batch 5:  Loss:     0.9637 Accuracy: 0.497400\n",
      "Epoch 25, CIFAR-10 Batch 1:  Loss:     1.0278 Accuracy: 0.506200\n",
      "Epoch 25, CIFAR-10 Batch 2:  Loss:     1.0420 Accuracy: 0.520800\n",
      "Epoch 25, CIFAR-10 Batch 3:  Loss:     0.9761 Accuracy: 0.501200\n",
      "Epoch 25, CIFAR-10 Batch 4:  Loss:     0.9963 Accuracy: 0.509800\n",
      "Epoch 25, CIFAR-10 Batch 5:  Loss:     0.9271 Accuracy: 0.496600\n",
      "Epoch 26, CIFAR-10 Batch 1:  Loss:     0.9878 Accuracy: 0.509000\n",
      "Epoch 26, CIFAR-10 Batch 2:  Loss:     1.0969 Accuracy: 0.504200\n",
      "Epoch 26, CIFAR-10 Batch 3:  Loss:     0.9574 Accuracy: 0.516000\n",
      "Epoch 26, CIFAR-10 Batch 4:  Loss:     1.0081 Accuracy: 0.516800\n",
      "Epoch 26, CIFAR-10 Batch 5:  Loss:     0.9781 Accuracy: 0.510600\n",
      "Epoch 27, CIFAR-10 Batch 1:  Loss:     0.9412 Accuracy: 0.513600\n",
      "Epoch 27, CIFAR-10 Batch 2:  Loss:     1.0612 Accuracy: 0.505000\n",
      "Epoch 27, CIFAR-10 Batch 3:  Loss:     0.9192 Accuracy: 0.502400\n",
      "Epoch 27, CIFAR-10 Batch 4:  Loss:     0.9880 Accuracy: 0.518000\n",
      "Epoch 27, CIFAR-10 Batch 5:  Loss:     0.9345 Accuracy: 0.503400\n",
      "Epoch 28, CIFAR-10 Batch 1:  Loss:     0.9450 Accuracy: 0.498600\n",
      "Epoch 28, CIFAR-10 Batch 2:  Loss:     1.0224 Accuracy: 0.490400\n",
      "Epoch 28, CIFAR-10 Batch 3:  Loss:     0.9109 Accuracy: 0.507000\n",
      "Epoch 28, CIFAR-10 Batch 4:  Loss:     1.0214 Accuracy: 0.523000\n",
      "Epoch 28, CIFAR-10 Batch 5:  Loss:     0.9550 Accuracy: 0.505800\n",
      "Epoch 29, CIFAR-10 Batch 1:  Loss:     0.9478 Accuracy: 0.488600\n",
      "Epoch 29, CIFAR-10 Batch 2:  Loss:     0.9908 Accuracy: 0.523200\n",
      "Epoch 29, CIFAR-10 Batch 3:  Loss:     0.9345 Accuracy: 0.503800\n",
      "Epoch 29, CIFAR-10 Batch 4:  Loss:     0.9873 Accuracy: 0.517400\n",
      "Epoch 29, CIFAR-10 Batch 5:  Loss:     0.8773 Accuracy: 0.512800\n",
      "Epoch 30, CIFAR-10 Batch 1:  Loss:     0.9791 Accuracy: 0.496400\n",
      "Epoch 30, CIFAR-10 Batch 2:  Loss:     1.0324 Accuracy: 0.508200\n",
      "Epoch 30, CIFAR-10 Batch 3:  Loss:     0.8393 Accuracy: 0.514400\n",
      "Epoch 30, CIFAR-10 Batch 4:  Loss:     0.9909 Accuracy: 0.514600\n",
      "Epoch 30, CIFAR-10 Batch 5:  Loss:     0.8954 Accuracy: 0.513600\n",
      "Epoch 31, CIFAR-10 Batch 1:  Loss:     0.9298 Accuracy: 0.514000\n",
      "Epoch 31, CIFAR-10 Batch 2:  Loss:     1.0228 Accuracy: 0.507800\n",
      "Epoch 31, CIFAR-10 Batch 3:  Loss:     0.8676 Accuracy: 0.510600\n",
      "Epoch 31, CIFAR-10 Batch 4:  Loss:     0.9823 Accuracy: 0.515000\n",
      "Epoch 31, CIFAR-10 Batch 5:  Loss:     0.8755 Accuracy: 0.501200\n",
      "Epoch 32, CIFAR-10 Batch 1:  Loss:     0.9136 Accuracy: 0.503000\n",
      "Epoch 32, CIFAR-10 Batch 2:  Loss:     1.0159 Accuracy: 0.519000\n",
      "Epoch 32, CIFAR-10 Batch 3:  Loss:     0.8714 Accuracy: 0.514800\n",
      "Epoch 32, CIFAR-10 Batch 4:  Loss:     0.9620 Accuracy: 0.505800\n",
      "Epoch 32, CIFAR-10 Batch 5:  Loss:     0.8104 Accuracy: 0.505200\n",
      "Epoch 33, CIFAR-10 Batch 1:  Loss:     0.9148 Accuracy: 0.519200\n",
      "Epoch 33, CIFAR-10 Batch 2:  Loss:     0.9038 Accuracy: 0.506600\n",
      "Epoch 33, CIFAR-10 Batch 3:  Loss:     0.8615 Accuracy: 0.509000\n",
      "Epoch 33, CIFAR-10 Batch 4:  Loss:     0.9832 Accuracy: 0.511000\n",
      "Epoch 33, CIFAR-10 Batch 5:  Loss:     0.8565 Accuracy: 0.518400\n",
      "Epoch 34, CIFAR-10 Batch 1:  Loss:     0.9561 Accuracy: 0.512800\n",
      "Epoch 34, CIFAR-10 Batch 2:  Loss:     0.9526 Accuracy: 0.518200\n",
      "Epoch 34, CIFAR-10 Batch 3:  Loss:     0.8590 Accuracy: 0.511000\n",
      "Epoch 34, CIFAR-10 Batch 4:  Loss:     0.9865 Accuracy: 0.505400\n",
      "Epoch 34, CIFAR-10 Batch 5:  Loss:     0.8631 Accuracy: 0.514600\n",
      "Epoch 35, CIFAR-10 Batch 1:  Loss:     0.8912 Accuracy: 0.505600\n",
      "Epoch 35, CIFAR-10 Batch 2:  Loss:     1.0107 Accuracy: 0.505600\n",
      "Epoch 35, CIFAR-10 Batch 3:  Loss:     0.8720 Accuracy: 0.501600\n",
      "Epoch 35, CIFAR-10 Batch 4:  Loss:     0.9877 Accuracy: 0.503000\n",
      "Epoch 35, CIFAR-10 Batch 5:  Loss:     0.8523 Accuracy: 0.510200\n",
      "Epoch 36, CIFAR-10 Batch 1:  Loss:     0.9153 Accuracy: 0.509800\n",
      "Epoch 36, CIFAR-10 Batch 2:  Loss:     1.0356 Accuracy: 0.500200\n",
      "Epoch 36, CIFAR-10 Batch 3:  Loss:     0.8679 Accuracy: 0.512800\n",
      "Epoch 36, CIFAR-10 Batch 4:  Loss:     0.9412 Accuracy: 0.510600\n",
      "Epoch 36, CIFAR-10 Batch 5:  Loss:     0.8619 Accuracy: 0.497600\n",
      "Epoch 37, CIFAR-10 Batch 1:  Loss:     0.9084 Accuracy: 0.504600\n",
      "Epoch 37, CIFAR-10 Batch 2:  Loss:     0.8498 Accuracy: 0.495800\n",
      "Epoch 37, CIFAR-10 Batch 3:  Loss:     0.8868 Accuracy: 0.506200\n",
      "Epoch 37, CIFAR-10 Batch 4:  Loss:     0.9829 Accuracy: 0.502000\n",
      "Epoch 37, CIFAR-10 Batch 5:  Loss:     0.8747 Accuracy: 0.487600\n",
      "Epoch 38, CIFAR-10 Batch 1:  Loss:     0.8627 Accuracy: 0.512800\n",
      "Epoch 38, CIFAR-10 Batch 2:  Loss:     0.9672 Accuracy: 0.502200\n",
      "Epoch 38, CIFAR-10 Batch 3:  Loss:     0.8390 Accuracy: 0.510000\n",
      "Epoch 38, CIFAR-10 Batch 4:  Loss:     0.8689 Accuracy: 0.519200\n",
      "Epoch 38, CIFAR-10 Batch 5:  Loss:     0.8887 Accuracy: 0.483000\n",
      "Epoch 39, CIFAR-10 Batch 1:  Loss:     0.8461 Accuracy: 0.518600\n",
      "Epoch 39, CIFAR-10 Batch 2:  Loss:     0.9743 Accuracy: 0.508200\n",
      "Epoch 39, CIFAR-10 Batch 3:  Loss:     0.8277 Accuracy: 0.515000\n",
      "Epoch 39, CIFAR-10 Batch 4:  Loss:     0.9533 Accuracy: 0.500800\n",
      "Epoch 39, CIFAR-10 Batch 5:  Loss:     0.8351 Accuracy: 0.516200\n",
      "Epoch 40, CIFAR-10 Batch 1:  Loss:     0.8243 Accuracy: 0.510800\n",
      "Epoch 40, CIFAR-10 Batch 2:  Loss:     0.9514 Accuracy: 0.497600\n",
      "Epoch 40, CIFAR-10 Batch 3:  Loss:     0.7768 Accuracy: 0.514800\n",
      "Epoch 40, CIFAR-10 Batch 4:  Loss:     0.8844 Accuracy: 0.515600\n",
      "Epoch 40, CIFAR-10 Batch 5:  Loss:     0.8115 Accuracy: 0.520000\n",
      "Epoch 41, CIFAR-10 Batch 1:  Loss:     0.8149 Accuracy: 0.499200\n",
      "Epoch 41, CIFAR-10 Batch 2:  Loss:     0.9940 Accuracy: 0.510600\n",
      "Epoch 41, CIFAR-10 Batch 3:  Loss:     0.8391 Accuracy: 0.505000\n",
      "Epoch 41, CIFAR-10 Batch 4:  Loss:     0.9297 Accuracy: 0.516200\n",
      "Epoch 41, CIFAR-10 Batch 5:  Loss:     0.8297 Accuracy: 0.504800\n",
      "Epoch 42, CIFAR-10 Batch 1:  Loss:     0.8314 Accuracy: 0.496000\n",
      "Epoch 42, CIFAR-10 Batch 2:  Loss:     0.9061 Accuracy: 0.500800\n",
      "Epoch 42, CIFAR-10 Batch 3:  Loss:     0.8262 Accuracy: 0.510200\n",
      "Epoch 42, CIFAR-10 Batch 4:  Loss:     0.8281 Accuracy: 0.508600\n",
      "Epoch 42, CIFAR-10 Batch 5:  Loss:     0.8200 Accuracy: 0.506400\n",
      "Epoch 43, CIFAR-10 Batch 1:  Loss:     0.8191 Accuracy: 0.494400\n",
      "Epoch 43, CIFAR-10 Batch 2:  Loss:     0.9111 Accuracy: 0.508000\n",
      "Epoch 43, CIFAR-10 Batch 3:  Loss:     0.7977 Accuracy: 0.505800\n",
      "Epoch 43, CIFAR-10 Batch 4:  Loss:     0.8598 Accuracy: 0.519600\n",
      "Epoch 43, CIFAR-10 Batch 5:  Loss:     0.8294 Accuracy: 0.486000\n",
      "Epoch 44, CIFAR-10 Batch 1:  Loss:     0.8645 Accuracy: 0.508800\n",
      "Epoch 44, CIFAR-10 Batch 2:  Loss:     0.9333 Accuracy: 0.513200\n",
      "Epoch 44, CIFAR-10 Batch 3:  Loss:     0.7772 Accuracy: 0.503000\n",
      "Epoch 44, CIFAR-10 Batch 4:  Loss:     0.8282 Accuracy: 0.507200\n",
      "Epoch 44, CIFAR-10 Batch 5:  Loss:     0.8021 Accuracy: 0.491000\n",
      "Epoch 45, CIFAR-10 Batch 1:  Loss:     0.8006 Accuracy: 0.490600\n",
      "Epoch 45, CIFAR-10 Batch 2:  Loss:     0.8891 Accuracy: 0.508400\n",
      "Epoch 45, CIFAR-10 Batch 3:  Loss:     0.7900 Accuracy: 0.503600\n",
      "Epoch 45, CIFAR-10 Batch 4:  Loss:     0.8875 Accuracy: 0.514000\n",
      "Epoch 45, CIFAR-10 Batch 5:  Loss:     0.7682 Accuracy: 0.496600\n",
      "Epoch 46, CIFAR-10 Batch 1:  Loss:     0.8329 Accuracy: 0.504200\n",
      "Epoch 46, CIFAR-10 Batch 2:  Loss:     0.8642 Accuracy: 0.508800\n",
      "Epoch 46, CIFAR-10 Batch 3:  Loss:     0.7887 Accuracy: 0.496800\n",
      "Epoch 46, CIFAR-10 Batch 4:  Loss:     0.8296 Accuracy: 0.514000\n",
      "Epoch 46, CIFAR-10 Batch 5:  Loss:     0.7946 Accuracy: 0.501800\n",
      "Epoch 47, CIFAR-10 Batch 1:  Loss:     0.8241 Accuracy: 0.516800\n",
      "Epoch 47, CIFAR-10 Batch 2:  Loss:     0.8827 Accuracy: 0.502800\n",
      "Epoch 47, CIFAR-10 Batch 3:  Loss:     0.7908 Accuracy: 0.511000\n",
      "Epoch 47, CIFAR-10 Batch 4:  Loss:     0.8593 Accuracy: 0.506000\n",
      "Epoch 47, CIFAR-10 Batch 5:  Loss:     0.7746 Accuracy: 0.486200\n",
      "Epoch 48, CIFAR-10 Batch 1:  Loss:     0.8204 Accuracy: 0.513200\n",
      "Epoch 48, CIFAR-10 Batch 2:  Loss:     0.8116 Accuracy: 0.502200\n",
      "Epoch 48, CIFAR-10 Batch 3:  Loss:     0.7522 Accuracy: 0.494800\n",
      "Epoch 48, CIFAR-10 Batch 4:  Loss:     0.8162 Accuracy: 0.508200\n",
      "Epoch 48, CIFAR-10 Batch 5:  Loss:     0.7845 Accuracy: 0.507600\n",
      "Epoch 49, CIFAR-10 Batch 1:  Loss:     0.8075 Accuracy: 0.505600\n",
      "Epoch 49, CIFAR-10 Batch 2:  Loss:     0.8610 Accuracy: 0.497200\n",
      "Epoch 49, CIFAR-10 Batch 3:  Loss:     0.7916 Accuracy: 0.505800\n",
      "Epoch 49, CIFAR-10 Batch 4:  Loss:     0.8712 Accuracy: 0.514000\n",
      "Epoch 49, CIFAR-10 Batch 5:  Loss:     0.7579 Accuracy: 0.495200\n",
      "Epoch 50, CIFAR-10 Batch 1:  Loss:     0.7991 Accuracy: 0.504200\n",
      "Epoch 50, CIFAR-10 Batch 2:  Loss:     0.8835 Accuracy: 0.513000\n",
      "Epoch 50, CIFAR-10 Batch 3:  Loss:     0.7986 Accuracy: 0.510200\n",
      "Epoch 50, CIFAR-10 Batch 4:  Loss:     0.8498 Accuracy: 0.522400\n",
      "Epoch 50, CIFAR-10 Batch 5:  Loss:     0.7511 Accuracy: 0.501800\n"
     ]
    }
   ],
   "source": [
    "\"\"\"\n",
    "DON'T MODIFY ANYTHING IN THIS CELL\n",
    "\"\"\"\n",
    "save_model_path = './image_classification'\n",
    "\n",
    "print('Training...')\n",
    "with tf.Session() as sess:\n",
    "    # Initializing the variables\n",
    "    sess.run(tf.global_variables_initializer())\n",
    "    \n",
    "    # Training cycle\n",
    "    for epoch in range(epochs):\n",
    "        # Loop over all batches\n",
    "        n_batches = 5\n",
    "        for batch_i in range(1, n_batches + 1):\n",
    "            for batch_features, batch_labels in helper.load_preprocess_training_batch(batch_i, batch_size):\n",
    "                train_neural_network(sess, optimizer, keep_probability, batch_features, batch_labels)\n",
    "            print('Epoch {:>2}, CIFAR-10 Batch {}:  '.format(epoch + 1, batch_i), end='')\n",
    "            print_stats(sess, batch_features, batch_labels, cost, accuracy)\n",
    "            \n",
    "    # Save Model\n",
    "    saver = tf.train.Saver()\n",
    "    save_path = saver.save(sess, save_model_path)"
   ]
  },
  {
   "cell_type": "markdown",
   "metadata": {},
   "source": [
    "# Checkpoint\n",
    "The model has been saved to disk.\n",
    "## Test Model\n",
    "Test your model against the test dataset.  This will be your final accuracy. You should have an accuracy greater than 50%. If you don't, keep tweaking the model architecture and parameters."
   ]
  },
  {
   "cell_type": "code",
   "execution_count": 19,
   "metadata": {
    "collapsed": false
   },
   "outputs": [
    {
     "name": "stdout",
     "output_type": "stream",
     "text": [
      "Testing Accuracy: 0.50224609375\n",
      "\n"
     ]
    },
    {
     "data": {
      "image/png": "[encoded data removed]",
      "text/plain": [
       "<matplotlib.figure.Figure at 0x1e28054f8d0>"
      ]
     },
     "metadata": {
      "image/png": {
       "height": 319,
       "width": 355
      }
     },
     "output_type": "display_data"
    }
   ],
   "source": [
    "\"\"\"\n",
    "DON'T MODIFY ANYTHING IN THIS CELL\n",
    "\"\"\"\n",
    "%matplotlib inline\n",
    "%config InlineBackend.figure_format = 'retina'\n",
    "\n",
    "import tensorflow as tf\n",
    "import pickle\n",
    "import helper\n",
    "import random\n",
    "\n",
    "# Set batch size if not already set\n",
    "try:\n",
    "    if batch_size:\n",
    "        pass\n",
    "except NameError:\n",
    "    batch_size = 64\n",
    "\n",
    "save_model_path = './image_classification'\n",
    "n_samples = 4\n",
    "top_n_predictions = 3\n",
    "\n",
    "def test_model():\n",
    "    \"\"\"\n",
    "    Test the saved model against the test dataset\n",
    "    \"\"\"\n",
    "\n",
    "    test_features, test_labels = pickle.load(open('preprocess_training.p', mode='rb'))\n",
    "    loaded_graph = tf.Graph()\n",
    "\n",
    "    with tf.Session(graph=loaded_graph) as sess:\n",
    "        # Load model\n",
    "        loader = tf.train.import_meta_graph(save_model_path + '.meta')\n",
    "        loader.restore(sess, save_model_path)\n",
    "\n",
    "        # Get Tensors from loaded model\n",
    "        loaded_x = loaded_graph.get_tensor_by_name('x:0')\n",
    "        loaded_y = loaded_graph.get_tensor_by_name('y:0')\n",
    "        loaded_keep_prob = loaded_graph.get_tensor_by_name('keep_prob:0')\n",
    "        loaded_logits = loaded_graph.get_tensor_by_name('logits:0')\n",
    "        loaded_acc = loaded_graph.get_tensor_by_name('accuracy:0')\n",
    "        \n",
    "        # Get accuracy in batches for memory limitations\n",
    "        test_batch_acc_total = 0\n",
    "        test_batch_count = 0\n",
    "        \n",
    "        for train_feature_batch, train_label_batch in helper.batch_features_labels(test_features, test_labels, batch_size):\n",
    "            test_batch_acc_total += sess.run(\n",
    "                loaded_acc,\n",
    "                feed_dict={loaded_x: train_feature_batch, loaded_y: train_label_batch, loaded_keep_prob: 1.0})\n",
    "            test_batch_count += 1\n",
    "\n",
    "        print('Testing Accuracy: {}\\n'.format(test_batch_acc_total/test_batch_count))\n",
    "\n",
    "        # Print Random Samples\n",
    "        random_test_features, random_test_labels = tuple(zip(*random.sample(list(zip(test_features, test_labels)), n_samples)))\n",
    "        random_test_predictions = sess.run(\n",
    "            tf.nn.top_k(tf.nn.softmax(loaded_logits), top_n_predictions),\n",
    "            feed_dict={loaded_x: random_test_features, loaded_y: random_test_labels, loaded_keep_prob: 1.0})\n",
    "        helper.display_image_predictions(random_test_features, random_test_labels, random_test_predictions)\n",
    "\n",
    "\n",
    "test_model()"
   ]
  },
  {
   "cell_type": "markdown",
   "metadata": {},
   "source": [
    "## Why 50-70% Accuracy?\n",
    "You might be wondering why you can't get an accuracy any higher. First things first, 50% isn't bad for a simple CNN.  Pure guessing would get you 10% accuracy. However, you might notice people are getting scores [well above 70%](http://rodrigob.github.io/are_we_there_yet/build/classification_datasets_results.html#43494641522d3130).  That's because we haven't taught you all there is to know about neural networks. We still need to cover a few more techniques.\n",
    "## Submitting This Project\n",
    "When submitting this project, make sure to run all the cells before saving the notebook.  Save the notebook file as \"dlnd_image_classification.ipynb\" and save it as a HTML file under \"File\" -> \"Download as\".  Include the \"helper.py\" and \"problem_unittests.py\" files in your submission."
   ]
  },
  {
   "cell_type": "code",
   "execution_count": null,
   "metadata": {
    "collapsed": true
   },
   "outputs": [],
   "source": []
  }
 ],
 "metadata": {
  "kernelspec": {
   "display_name": "Python 3",
   "language": "python",
   "name": "python3"
  },
  "language_info": {
   "codemirror_mode": {
    "name": "ipython",
    "version": 3
   },
   "file_extension": ".py",
   "mimetype": "text/x-python",
   "name": "python",
   "nbconvert_exporter": "python",
   "pygments_lexer": "ipython3",
   "version": "3.5.3"
  }
 },
 "nbformat": 4,
 "nbformat_minor": 0
}
